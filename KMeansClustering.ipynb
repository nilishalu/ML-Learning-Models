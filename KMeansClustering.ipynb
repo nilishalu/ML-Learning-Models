{
  "nbformat": 4,
  "nbformat_minor": 0,
  "metadata": {
    "colab": {
      "provenance": [],
      "mount_file_id": "1XMuCB3r5o8TvK7QbFZ3ZspCRf0i71sFx",
      "authorship_tag": "ABX9TyNMiV0V/xJ8GsxZWaiCrxtf",
      "include_colab_link": true
    },
    "kernelspec": {
      "name": "python3",
      "display_name": "Python 3"
    },
    "language_info": {
      "name": "python"
    }
  },
  "cells": [
    {
      "cell_type": "markdown",
      "metadata": {
        "id": "view-in-github",
        "colab_type": "text"
      },
      "source": [
        "<a href=\"https://colab.research.google.com/github/nilishalu/ML-Learning-Models/blob/main/KMeansClustering.ipynb\" target=\"_parent\"><img src=\"https://colab.research.google.com/assets/colab-badge.svg\" alt=\"Open In Colab\"/></a>"
      ]
    },
    {
      "cell_type": "markdown",
      "source": [
        "**K-Means Clustering Algorithm**"
      ],
      "metadata": {
        "id": "RMmTnxKjpFYL"
      }
    },
    {
      "cell_type": "code",
      "execution_count": 3,
      "metadata": {
        "id": "ECdGbvTRpExe"
      },
      "outputs": [],
      "source": [
        "import pandas as pd\n",
        "import numpy as np\n",
        "import matplotlib.pyplot as plt\n",
        "from sklearn.cluster import KMeans"
      ]
    },
    {
      "cell_type": "code",
      "source": [
        "df = pd.read_csv(\"/content/drive/MyDrive/Data/data/faithful.csv\")\n",
        "df"
      ],
      "metadata": {
        "colab": {
          "base_uri": "https://localhost:8080/",
          "height": 423
        },
        "id": "AMfy1HX_pYzS",
        "outputId": "edd9b524-55f9-4056-b070-fcfa8a20a6df"
      },
      "execution_count": 4,
      "outputs": [
        {
          "output_type": "execute_result",
          "data": {
            "text/plain": [
              "     eruption  waiting\n",
              "0       3.600       79\n",
              "1       1.800       54\n",
              "2       3.333       74\n",
              "3       2.283       62\n",
              "4       4.533       85\n",
              "..        ...      ...\n",
              "267     4.117       81\n",
              "268     2.150       46\n",
              "269     4.417       90\n",
              "270     1.817       46\n",
              "271     4.467       74\n",
              "\n",
              "[272 rows x 2 columns]"
            ],
            "text/html": [
              "\n",
              "  <div id=\"df-137ce234-d4de-4b28-9adb-696b0ee39c49\">\n",
              "    <div class=\"colab-df-container\">\n",
              "      <div>\n",
              "<style scoped>\n",
              "    .dataframe tbody tr th:only-of-type {\n",
              "        vertical-align: middle;\n",
              "    }\n",
              "\n",
              "    .dataframe tbody tr th {\n",
              "        vertical-align: top;\n",
              "    }\n",
              "\n",
              "    .dataframe thead th {\n",
              "        text-align: right;\n",
              "    }\n",
              "</style>\n",
              "<table border=\"1\" class=\"dataframe\">\n",
              "  <thead>\n",
              "    <tr style=\"text-align: right;\">\n",
              "      <th></th>\n",
              "      <th>eruption</th>\n",
              "      <th>waiting</th>\n",
              "    </tr>\n",
              "  </thead>\n",
              "  <tbody>\n",
              "    <tr>\n",
              "      <th>0</th>\n",
              "      <td>3.600</td>\n",
              "      <td>79</td>\n",
              "    </tr>\n",
              "    <tr>\n",
              "      <th>1</th>\n",
              "      <td>1.800</td>\n",
              "      <td>54</td>\n",
              "    </tr>\n",
              "    <tr>\n",
              "      <th>2</th>\n",
              "      <td>3.333</td>\n",
              "      <td>74</td>\n",
              "    </tr>\n",
              "    <tr>\n",
              "      <th>3</th>\n",
              "      <td>2.283</td>\n",
              "      <td>62</td>\n",
              "    </tr>\n",
              "    <tr>\n",
              "      <th>4</th>\n",
              "      <td>4.533</td>\n",
              "      <td>85</td>\n",
              "    </tr>\n",
              "    <tr>\n",
              "      <th>...</th>\n",
              "      <td>...</td>\n",
              "      <td>...</td>\n",
              "    </tr>\n",
              "    <tr>\n",
              "      <th>267</th>\n",
              "      <td>4.117</td>\n",
              "      <td>81</td>\n",
              "    </tr>\n",
              "    <tr>\n",
              "      <th>268</th>\n",
              "      <td>2.150</td>\n",
              "      <td>46</td>\n",
              "    </tr>\n",
              "    <tr>\n",
              "      <th>269</th>\n",
              "      <td>4.417</td>\n",
              "      <td>90</td>\n",
              "    </tr>\n",
              "    <tr>\n",
              "      <th>270</th>\n",
              "      <td>1.817</td>\n",
              "      <td>46</td>\n",
              "    </tr>\n",
              "    <tr>\n",
              "      <th>271</th>\n",
              "      <td>4.467</td>\n",
              "      <td>74</td>\n",
              "    </tr>\n",
              "  </tbody>\n",
              "</table>\n",
              "<p>272 rows × 2 columns</p>\n",
              "</div>\n",
              "      <button class=\"colab-df-convert\" onclick=\"convertToInteractive('df-137ce234-d4de-4b28-9adb-696b0ee39c49')\"\n",
              "              title=\"Convert this dataframe to an interactive table.\"\n",
              "              style=\"display:none;\">\n",
              "        \n",
              "  <svg xmlns=\"http://www.w3.org/2000/svg\" height=\"24px\"viewBox=\"0 0 24 24\"\n",
              "       width=\"24px\">\n",
              "    <path d=\"M0 0h24v24H0V0z\" fill=\"none\"/>\n",
              "    <path d=\"M18.56 5.44l.94 2.06.94-2.06 2.06-.94-2.06-.94-.94-2.06-.94 2.06-2.06.94zm-11 1L8.5 8.5l.94-2.06 2.06-.94-2.06-.94L8.5 2.5l-.94 2.06-2.06.94zm10 10l.94 2.06.94-2.06 2.06-.94-2.06-.94-.94-2.06-.94 2.06-2.06.94z\"/><path d=\"M17.41 7.96l-1.37-1.37c-.4-.4-.92-.59-1.43-.59-.52 0-1.04.2-1.43.59L10.3 9.45l-7.72 7.72c-.78.78-.78 2.05 0 2.83L4 21.41c.39.39.9.59 1.41.59.51 0 1.02-.2 1.41-.59l7.78-7.78 2.81-2.81c.8-.78.8-2.07 0-2.86zM5.41 20L4 18.59l7.72-7.72 1.47 1.35L5.41 20z\"/>\n",
              "  </svg>\n",
              "      </button>\n",
              "      \n",
              "  <style>\n",
              "    .colab-df-container {\n",
              "      display:flex;\n",
              "      flex-wrap:wrap;\n",
              "      gap: 12px;\n",
              "    }\n",
              "\n",
              "    .colab-df-convert {\n",
              "      background-color: #E8F0FE;\n",
              "      border: none;\n",
              "      border-radius: 50%;\n",
              "      cursor: pointer;\n",
              "      display: none;\n",
              "      fill: #1967D2;\n",
              "      height: 32px;\n",
              "      padding: 0 0 0 0;\n",
              "      width: 32px;\n",
              "    }\n",
              "\n",
              "    .colab-df-convert:hover {\n",
              "      background-color: #E2EBFA;\n",
              "      box-shadow: 0px 1px 2px rgba(60, 64, 67, 0.3), 0px 1px 3px 1px rgba(60, 64, 67, 0.15);\n",
              "      fill: #174EA6;\n",
              "    }\n",
              "\n",
              "    [theme=dark] .colab-df-convert {\n",
              "      background-color: #3B4455;\n",
              "      fill: #D2E3FC;\n",
              "    }\n",
              "\n",
              "    [theme=dark] .colab-df-convert:hover {\n",
              "      background-color: #434B5C;\n",
              "      box-shadow: 0px 1px 3px 1px rgba(0, 0, 0, 0.15);\n",
              "      filter: drop-shadow(0px 1px 2px rgba(0, 0, 0, 0.3));\n",
              "      fill: #FFFFFF;\n",
              "    }\n",
              "  </style>\n",
              "\n",
              "      <script>\n",
              "        const buttonEl =\n",
              "          document.querySelector('#df-137ce234-d4de-4b28-9adb-696b0ee39c49 button.colab-df-convert');\n",
              "        buttonEl.style.display =\n",
              "          google.colab.kernel.accessAllowed ? 'block' : 'none';\n",
              "\n",
              "        async function convertToInteractive(key) {\n",
              "          const element = document.querySelector('#df-137ce234-d4de-4b28-9adb-696b0ee39c49');\n",
              "          const dataTable =\n",
              "            await google.colab.kernel.invokeFunction('convertToInteractive',\n",
              "                                                     [key], {});\n",
              "          if (!dataTable) return;\n",
              "\n",
              "          const docLinkHtml = 'Like what you see? Visit the ' +\n",
              "            '<a target=\"_blank\" href=https://colab.research.google.com/notebooks/data_table.ipynb>data table notebook</a>'\n",
              "            + ' to learn more about interactive tables.';\n",
              "          element.innerHTML = '';\n",
              "          dataTable['output_type'] = 'display_data';\n",
              "          await google.colab.output.renderOutput(dataTable, element);\n",
              "          const docLink = document.createElement('div');\n",
              "          docLink.innerHTML = docLinkHtml;\n",
              "          element.appendChild(docLink);\n",
              "        }\n",
              "      </script>\n",
              "    </div>\n",
              "  </div>\n",
              "  "
            ]
          },
          "metadata": {},
          "execution_count": 4
        }
      ]
    },
    {
      "cell_type": "code",
      "source": [
        "plt.scatter(df['eruption'], df['waiting'])"
      ],
      "metadata": {
        "colab": {
          "base_uri": "https://localhost:8080/",
          "height": 282
        },
        "id": "cOJ6C3PmrvQw",
        "outputId": "7dfa6604-138c-46c9-ed4f-9f848f9353c1"
      },
      "execution_count": 5,
      "outputs": [
        {
          "output_type": "execute_result",
          "data": {
            "text/plain": [
              "<matplotlib.collections.PathCollection at 0x7f9c2e0555e0>"
            ]
          },
          "metadata": {},
          "execution_count": 5
        },
        {
          "output_type": "display_data",
          "data": {
            "text/plain": [
              "<Figure size 432x288 with 1 Axes>"
            ],
            "image/png": "[encoded data removed]"
          },
          "metadata": {
            "needs_background": "light"
          }
        }
      ]
    },
    {
      "cell_type": "code",
      "source": [
        "#convert data into pairs or tuples form which helps to train\n",
        "X = df.values\n",
        "X"
      ],
      "metadata": {
        "colab": {
          "base_uri": "https://localhost:8080/"
        },
        "id": "B9RZYrJWsF76",
        "outputId": "318484f9-e51f-4172-d874-6df1dcb783ad"
      },
      "execution_count": 8,
      "outputs": [
        {
          "output_type": "execute_result",
          "data": {
            "text/plain": [
              "array([[ 3.6  , 79.   ],\n",
              "       [ 1.8  , 54.   ],\n",
              "       [ 3.333, 74.   ],\n",
              "       [ 2.283, 62.   ],\n",
              "       [ 4.533, 85.   ],\n",
              "       [ 2.883, 55.   ],\n",
              "       [ 4.7  , 88.   ],\n",
              "       [ 3.6  , 85.   ],\n",
              "       [ 1.95 , 51.   ],\n",
              "       [ 4.35 , 85.   ],\n",
              "       [ 1.833, 54.   ],\n",
              "       [ 3.917, 84.   ],\n",
              "       [ 4.2  , 78.   ],\n",
              "       [ 1.75 , 47.   ],\n",
              "       [ 4.7  , 83.   ],\n",
              "       [ 2.167, 52.   ],\n",
              "       [ 1.75 , 62.   ],\n",
              "       [ 4.8  , 84.   ],\n",
              "       [ 1.6  , 52.   ],\n",
              "       [ 4.25 , 79.   ],\n",
              "       [ 1.8  , 51.   ],\n",
              "       [ 1.75 , 47.   ],\n",
              "       [ 3.45 , 78.   ],\n",
              "       [ 3.067, 69.   ],\n",
              "       [ 4.533, 74.   ],\n",
              "       [ 3.6  , 83.   ],\n",
              "       [ 1.967, 55.   ],\n",
              "       [ 4.083, 76.   ],\n",
              "       [ 3.85 , 78.   ],\n",
              "       [ 4.433, 79.   ],\n",
              "       [ 4.3  , 73.   ],\n",
              "       [ 4.467, 77.   ],\n",
              "       [ 3.367, 66.   ],\n",
              "       [ 4.033, 80.   ],\n",
              "       [ 3.833, 74.   ],\n",
              "       [ 2.017, 52.   ],\n",
              "       [ 1.867, 48.   ],\n",
              "       [ 4.833, 80.   ],\n",
              "       [ 1.833, 59.   ],\n",
              "       [ 4.783, 90.   ],\n",
              "       [ 4.35 , 80.   ],\n",
              "       [ 1.883, 58.   ],\n",
              "       [ 4.567, 84.   ],\n",
              "       [ 1.75 , 58.   ],\n",
              "       [ 4.533, 73.   ],\n",
              "       [ 3.317, 83.   ],\n",
              "       [ 3.833, 64.   ],\n",
              "       [ 2.1  , 53.   ],\n",
              "       [ 4.633, 82.   ],\n",
              "       [ 2.   , 59.   ],\n",
              "       [ 4.8  , 75.   ],\n",
              "       [ 4.716, 90.   ],\n",
              "       [ 1.833, 54.   ],\n",
              "       [ 4.833, 80.   ],\n",
              "       [ 1.733, 54.   ],\n",
              "       [ 4.883, 83.   ],\n",
              "       [ 3.717, 71.   ],\n",
              "       [ 1.667, 64.   ],\n",
              "       [ 4.567, 77.   ],\n",
              "       [ 4.317, 81.   ],\n",
              "       [ 2.233, 59.   ],\n",
              "       [ 4.5  , 84.   ],\n",
              "       [ 1.75 , 48.   ],\n",
              "       [ 4.8  , 82.   ],\n",
              "       [ 1.817, 60.   ],\n",
              "       [ 4.4  , 92.   ],\n",
              "       [ 4.167, 78.   ],\n",
              "       [ 4.7  , 78.   ],\n",
              "       [ 2.067, 65.   ],\n",
              "       [ 4.7  , 73.   ],\n",
              "       [ 4.033, 82.   ],\n",
              "       [ 1.967, 56.   ],\n",
              "       [ 4.5  , 79.   ],\n",
              "       [ 4.   , 71.   ],\n",
              "       [ 1.983, 62.   ],\n",
              "       [ 5.067, 76.   ],\n",
              "       [ 2.017, 60.   ],\n",
              "       [ 4.567, 78.   ],\n",
              "       [ 3.883, 76.   ],\n",
              "       [ 3.6  , 83.   ],\n",
              "       [ 4.133, 75.   ],\n",
              "       [ 4.333, 82.   ],\n",
              "       [ 4.1  , 70.   ],\n",
              "       [ 2.633, 65.   ],\n",
              "       [ 4.067, 73.   ],\n",
              "       [ 4.933, 88.   ],\n",
              "       [ 3.95 , 76.   ],\n",
              "       [ 4.517, 80.   ],\n",
              "       [ 2.167, 48.   ],\n",
              "       [ 4.   , 86.   ],\n",
              "       [ 2.2  , 60.   ],\n",
              "       [ 4.333, 90.   ],\n",
              "       [ 1.867, 50.   ],\n",
              "       [ 4.817, 78.   ],\n",
              "       [ 1.833, 63.   ],\n",
              "       [ 4.3  , 72.   ],\n",
              "       [ 4.667, 84.   ],\n",
              "       [ 3.75 , 75.   ],\n",
              "       [ 1.867, 51.   ],\n",
              "       [ 4.9  , 82.   ],\n",
              "       [ 2.483, 62.   ],\n",
              "       [ 4.367, 88.   ],\n",
              "       [ 2.1  , 49.   ],\n",
              "       [ 4.5  , 83.   ],\n",
              "       [ 4.05 , 81.   ],\n",
              "       [ 1.867, 47.   ],\n",
              "       [ 4.7  , 84.   ],\n",
              "       [ 1.783, 52.   ],\n",
              "       [ 4.85 , 86.   ],\n",
              "       [ 3.683, 81.   ],\n",
              "       [ 4.733, 75.   ],\n",
              "       [ 2.3  , 59.   ],\n",
              "       [ 4.9  , 89.   ],\n",
              "       [ 4.417, 79.   ],\n",
              "       [ 1.7  , 59.   ],\n",
              "       [ 4.633, 81.   ],\n",
              "       [ 2.317, 50.   ],\n",
              "       [ 4.6  , 85.   ],\n",
              "       [ 1.817, 59.   ],\n",
              "       [ 4.417, 87.   ],\n",
              "       [ 2.617, 53.   ],\n",
              "       [ 4.067, 69.   ],\n",
              "       [ 4.25 , 77.   ],\n",
              "       [ 1.967, 56.   ],\n",
              "       [ 4.6  , 88.   ],\n",
              "       [ 3.767, 81.   ],\n",
              "       [ 1.917, 45.   ],\n",
              "       [ 4.5  , 82.   ],\n",
              "       [ 2.267, 55.   ],\n",
              "       [ 4.65 , 90.   ],\n",
              "       [ 1.867, 45.   ],\n",
              "       [ 4.167, 83.   ],\n",
              "       [ 2.8  , 56.   ],\n",
              "       [ 4.333, 89.   ],\n",
              "       [ 1.833, 46.   ],\n",
              "       [ 4.383, 82.   ],\n",
              "       [ 1.883, 51.   ],\n",
              "       [ 4.933, 86.   ],\n",
              "       [ 2.033, 53.   ],\n",
              "       [ 3.733, 79.   ],\n",
              "       [ 4.233, 81.   ],\n",
              "       [ 2.233, 60.   ],\n",
              "       [ 4.533, 82.   ],\n",
              "       [ 4.817, 77.   ],\n",
              "       [ 4.333, 76.   ],\n",
              "       [ 1.983, 59.   ],\n",
              "       [ 4.633, 80.   ],\n",
              "       [ 2.017, 49.   ],\n",
              "       [ 5.1  , 96.   ],\n",
              "       [ 1.8  , 53.   ],\n",
              "       [ 5.033, 77.   ],\n",
              "       [ 4.   , 77.   ],\n",
              "       [ 2.4  , 65.   ],\n",
              "       [ 4.6  , 81.   ],\n",
              "       [ 3.567, 71.   ],\n",
              "       [ 4.   , 70.   ],\n",
              "       [ 4.5  , 81.   ],\n",
              "       [ 4.083, 93.   ],\n",
              "       [ 1.8  , 53.   ],\n",
              "       [ 3.967, 89.   ],\n",
              "       [ 2.2  , 45.   ],\n",
              "       [ 4.15 , 86.   ],\n",
              "       [ 2.   , 58.   ],\n",
              "       [ 3.833, 78.   ],\n",
              "       [ 3.5  , 66.   ],\n",
              "       [ 4.583, 76.   ],\n",
              "       [ 2.367, 63.   ],\n",
              "       [ 5.   , 88.   ],\n",
              "       [ 1.933, 52.   ],\n",
              "       [ 4.617, 93.   ],\n",
              "       [ 1.917, 49.   ],\n",
              "       [ 2.083, 57.   ],\n",
              "       [ 4.583, 77.   ],\n",
              "       [ 3.333, 68.   ],\n",
              "       [ 4.167, 81.   ],\n",
              "       [ 4.333, 81.   ],\n",
              "       [ 4.5  , 73.   ],\n",
              "       [ 2.417, 50.   ],\n",
              "       [ 4.   , 85.   ],\n",
              "       [ 4.167, 74.   ],\n",
              "       [ 1.883, 55.   ],\n",
              "       [ 4.583, 77.   ],\n",
              "       [ 4.25 , 83.   ],\n",
              "       [ 3.767, 83.   ],\n",
              "       [ 2.033, 51.   ],\n",
              "       [ 4.433, 78.   ],\n",
              "       [ 4.083, 84.   ],\n",
              "       [ 1.833, 46.   ],\n",
              "       [ 4.417, 83.   ],\n",
              "       [ 2.183, 55.   ],\n",
              "       [ 4.8  , 81.   ],\n",
              "       [ 1.833, 57.   ],\n",
              "       [ 4.8  , 76.   ],\n",
              "       [ 4.1  , 84.   ],\n",
              "       [ 3.966, 77.   ],\n",
              "       [ 4.233, 81.   ],\n",
              "       [ 3.5  , 87.   ],\n",
              "       [ 4.366, 77.   ],\n",
              "       [ 2.25 , 51.   ],\n",
              "       [ 4.667, 78.   ],\n",
              "       [ 2.1  , 60.   ],\n",
              "       [ 4.35 , 82.   ],\n",
              "       [ 4.133, 91.   ],\n",
              "       [ 1.867, 53.   ],\n",
              "       [ 4.6  , 78.   ],\n",
              "       [ 1.783, 46.   ],\n",
              "       [ 4.367, 77.   ],\n",
              "       [ 3.85 , 84.   ],\n",
              "       [ 1.933, 49.   ],\n",
              "       [ 4.5  , 83.   ],\n",
              "       [ 2.383, 71.   ],\n",
              "       [ 4.7  , 80.   ],\n",
              "       [ 1.867, 49.   ],\n",
              "       [ 3.833, 75.   ],\n",
              "       [ 3.417, 64.   ],\n",
              "       [ 4.233, 76.   ],\n",
              "       [ 2.4  , 53.   ],\n",
              "       [ 4.8  , 94.   ],\n",
              "       [ 2.   , 55.   ],\n",
              "       [ 4.15 , 76.   ],\n",
              "       [ 1.867, 50.   ],\n",
              "       [ 4.267, 82.   ],\n",
              "       [ 1.75 , 54.   ],\n",
              "       [ 4.483, 75.   ],\n",
              "       [ 4.   , 78.   ],\n",
              "       [ 4.117, 79.   ],\n",
              "       [ 4.083, 78.   ],\n",
              "       [ 4.267, 78.   ],\n",
              "       [ 3.917, 70.   ],\n",
              "       [ 4.55 , 79.   ],\n",
              "       [ 4.083, 70.   ],\n",
              "       [ 2.417, 54.   ],\n",
              "       [ 4.183, 86.   ],\n",
              "       [ 2.217, 50.   ],\n",
              "       [ 4.45 , 90.   ],\n",
              "       [ 1.883, 54.   ],\n",
              "       [ 1.85 , 54.   ],\n",
              "       [ 4.283, 77.   ],\n",
              "       [ 3.95 , 79.   ],\n",
              "       [ 2.333, 64.   ],\n",
              "       [ 4.15 , 75.   ],\n",
              "       [ 2.35 , 47.   ],\n",
              "       [ 4.933, 86.   ],\n",
              "       [ 2.9  , 63.   ],\n",
              "       [ 4.583, 85.   ],\n",
              "       [ 3.833, 82.   ],\n",
              "       [ 2.083, 57.   ],\n",
              "       [ 4.367, 82.   ],\n",
              "       [ 2.133, 67.   ],\n",
              "       [ 4.35 , 74.   ],\n",
              "       [ 2.2  , 54.   ],\n",
              "       [ 4.45 , 83.   ],\n",
              "       [ 3.567, 73.   ],\n",
              "       [ 4.5  , 73.   ],\n",
              "       [ 4.15 , 88.   ],\n",
              "       [ 3.817, 80.   ],\n",
              "       [ 3.917, 71.   ],\n",
              "       [ 4.45 , 83.   ],\n",
              "       [ 2.   , 56.   ],\n",
              "       [ 4.283, 79.   ],\n",
              "       [ 4.767, 78.   ],\n",
              "       [ 4.533, 84.   ],\n",
              "       [ 1.85 , 58.   ],\n",
              "       [ 4.25 , 83.   ],\n",
              "       [ 1.983, 43.   ],\n",
              "       [ 2.25 , 60.   ],\n",
              "       [ 4.75 , 75.   ],\n",
              "       [ 4.117, 81.   ],\n",
              "       [ 2.15 , 46.   ],\n",
              "       [ 4.417, 90.   ],\n",
              "       [ 1.817, 46.   ],\n",
              "       [ 4.467, 74.   ]])"
            ]
          },
          "metadata": {},
          "execution_count": 8
        }
      ]
    },
    {
      "cell_type": "code",
      "source": [
        "kmeans = KMeans(n_clusters = 2, \n",
        "                init = 'random', max_iter = 300)\n",
        "#random method is used to choose the centroids randomly for the clusters"
      ],
      "metadata": {
        "id": "c6mNeQX4sXdJ"
      },
      "execution_count": 9,
      "outputs": []
    },
    {
      "cell_type": "code",
      "source": [
        "kmeans.fit(X)"
      ],
      "metadata": {
        "colab": {
          "base_uri": "https://localhost:8080/"
        },
        "id": "aB2oku3htIUc",
        "outputId": "2f7eb055-a725-48dc-de47-da5e3e5d5793"
      },
      "execution_count": 10,
      "outputs": [
        {
          "output_type": "execute_result",
          "data": {
            "text/plain": [
              "KMeans(init='random', n_clusters=2)"
            ]
          },
          "metadata": {},
          "execution_count": 10
        }
      ]
    },
    {
      "cell_type": "code",
      "source": [
        "kmeans.cluster_centers_"
      ],
      "metadata": {
        "colab": {
          "base_uri": "https://localhost:8080/"
        },
        "id": "VpJE-GDStKQp",
        "outputId": "8709a9a5-a84b-4eb2-f067-14f7f68665db"
      },
      "execution_count": 12,
      "outputs": [
        {
          "output_type": "execute_result",
          "data": {
            "text/plain": [
              "array([[ 2.09433   , 54.75      ],\n",
              "       [ 4.29793023, 80.28488372]])"
            ]
          },
          "metadata": {},
          "execution_count": 12
        }
      ]
    },
    {
      "cell_type": "code",
      "source": [
        "kmeans.inertia_ #distance from the centroids, how well the model did or the error, it has to be minimised"
      ],
      "metadata": {
        "colab": {
          "base_uri": "https://localhost:8080/"
        },
        "id": "OicYkAk8tU4j",
        "outputId": "a13e908b-c076-41a0-a3fc-476e47f0c0d8"
      },
      "execution_count": 15,
      "outputs": [
        {
          "output_type": "execute_result",
          "data": {
            "text/plain": [
              "8901.768720947211"
            ]
          },
          "metadata": {},
          "execution_count": 15
        }
      ]
    },
    {
      "cell_type": "code",
      "source": [
        "kmeans.n_iter_"
      ],
      "metadata": {
        "colab": {
          "base_uri": "https://localhost:8080/"
        },
        "id": "7_sF0GONtadQ",
        "outputId": "b9dcefe2-7b89-4ac8-d164-100dc073e51a"
      },
      "execution_count": 16,
      "outputs": [
        {
          "output_type": "execute_result",
          "data": {
            "text/plain": [
              "3"
            ]
          },
          "metadata": {},
          "execution_count": 16
        }
      ]
    },
    {
      "cell_type": "code",
      "source": [
        "flags = kmeans.labels_ "
      ],
      "metadata": {
        "id": "Sv84QpvCt6Vu"
      },
      "execution_count": 19,
      "outputs": []
    },
    {
      "cell_type": "code",
      "source": [
        "category0 = df[flags == 0]\n",
        "category1 = df[flags == 1]\n",
        "\n",
        "plt.scatter(category0['eruption'], category0['waiting'], label = 'category0')\n",
        "plt.scatter(category1['eruption'], category1['waiting'], label = 'category1')\n",
        "\n",
        "plt.legend()"
      ],
      "metadata": {
        "colab": {
          "base_uri": "https://localhost:8080/",
          "height": 282
        },
        "id": "CA0PIO8Rt9sS",
        "outputId": "c6089775-ac5c-4045-842f-f6f50f7fd1a1"
      },
      "execution_count": 25,
      "outputs": [
        {
          "output_type": "execute_result",
          "data": {
            "text/plain": [
              "<matplotlib.legend.Legend at 0x7f9c272fa8b0>"
            ]
          },
          "metadata": {},
          "execution_count": 25
        },
        {
          "output_type": "display_data",
          "data": {
            "text/plain": [
              "<Figure size 432x288 with 1 Axes>"
            ],
            "image/png": "[encoded data removed]"
          },
          "metadata": {
            "needs_background": "light"
          }
        }
      ]
    },
    {
      "cell_type": "code",
      "source": [
        "kmeans.predict([[3, 50.2]])"
      ],
      "metadata": {
        "colab": {
          "base_uri": "https://localhost:8080/"
        },
        "id": "ZYCYW_a8uH1N",
        "outputId": "4e02bd08-301d-4721-94be-bf60af6652d2"
      },
      "execution_count": 29,
      "outputs": [
        {
          "output_type": "execute_result",
          "data": {
            "text/plain": [
              "array([0], dtype=int32)"
            ]
          },
          "metadata": {},
          "execution_count": 29
        }
      ]
    },
    {
      "cell_type": "markdown",
      "source": [
        "A non-spherical clustering example"
      ],
      "metadata": {
        "id": "Jev-3gqKu9-4"
      }
    },
    {
      "cell_type": "code",
      "source": [
        "data = pd.read_csv(\"/content/drive/MyDrive/Data/data/bulls_eye.csv\")[['x', 'y']]\n",
        "data"
      ],
      "metadata": {
        "colab": {
          "base_uri": "https://localhost:8080/",
          "height": 423
        },
        "id": "HvHzm6jBuwy6",
        "outputId": "26e37d8d-1b9b-435e-c3c3-32e97d7bd402"
      },
      "execution_count": 31,
      "outputs": [
        {
          "output_type": "execute_result",
          "data": {
            "text/plain": [
              "             x         y\n",
              "0    -0.420139 -0.009825\n",
              "1    -0.056035  0.158766\n",
              "2     0.694156 -0.563173\n",
              "3    -0.291152  0.195805\n",
              "4     0.022523 -0.187408\n",
              "...        ...       ...\n",
              "2995  2.682259 -5.231673\n",
              "2996 -5.603873 -0.663559\n",
              "2997  5.224298 -2.026213\n",
              "2998 -2.991822  5.143475\n",
              "2999  4.889093  1.789527\n",
              "\n",
              "[3000 rows x 2 columns]"
            ],
            "text/html": [
              "\n",
              "  <div id=\"df-d61d88d6-677a-4dc9-a848-915497b7d0ac\">\n",
              "    <div class=\"colab-df-container\">\n",
              "      <div>\n",
              "<style scoped>\n",
              "    .dataframe tbody tr th:only-of-type {\n",
              "        vertical-align: middle;\n",
              "    }\n",
              "\n",
              "    .dataframe tbody tr th {\n",
              "        vertical-align: top;\n",
              "    }\n",
              "\n",
              "    .dataframe thead th {\n",
              "        text-align: right;\n",
              "    }\n",
              "</style>\n",
              "<table border=\"1\" class=\"dataframe\">\n",
              "  <thead>\n",
              "    <tr style=\"text-align: right;\">\n",
              "      <th></th>\n",
              "      <th>x</th>\n",
              "      <th>y</th>\n",
              "    </tr>\n",
              "  </thead>\n",
              "  <tbody>\n",
              "    <tr>\n",
              "      <th>0</th>\n",
              "      <td>-0.420139</td>\n",
              "      <td>-0.009825</td>\n",
              "    </tr>\n",
              "    <tr>\n",
              "      <th>1</th>\n",
              "      <td>-0.056035</td>\n",
              "      <td>0.158766</td>\n",
              "    </tr>\n",
              "    <tr>\n",
              "      <th>2</th>\n",
              "      <td>0.694156</td>\n",
              "      <td>-0.563173</td>\n",
              "    </tr>\n",
              "    <tr>\n",
              "      <th>3</th>\n",
              "      <td>-0.291152</td>\n",
              "      <td>0.195805</td>\n",
              "    </tr>\n",
              "    <tr>\n",
              "      <th>4</th>\n",
              "      <td>0.022523</td>\n",
              "      <td>-0.187408</td>\n",
              "    </tr>\n",
              "    <tr>\n",
              "      <th>...</th>\n",
              "      <td>...</td>\n",
              "      <td>...</td>\n",
              "    </tr>\n",
              "    <tr>\n",
              "      <th>2995</th>\n",
              "      <td>2.682259</td>\n",
              "      <td>-5.231673</td>\n",
              "    </tr>\n",
              "    <tr>\n",
              "      <th>2996</th>\n",
              "      <td>-5.603873</td>\n",
              "      <td>-0.663559</td>\n",
              "    </tr>\n",
              "    <tr>\n",
              "      <th>2997</th>\n",
              "      <td>5.224298</td>\n",
              "      <td>-2.026213</td>\n",
              "    </tr>\n",
              "    <tr>\n",
              "      <th>2998</th>\n",
              "      <td>-2.991822</td>\n",
              "      <td>5.143475</td>\n",
              "    </tr>\n",
              "    <tr>\n",
              "      <th>2999</th>\n",
              "      <td>4.889093</td>\n",
              "      <td>1.789527</td>\n",
              "    </tr>\n",
              "  </tbody>\n",
              "</table>\n",
              "<p>3000 rows × 2 columns</p>\n",
              "</div>\n",
              "      <button class=\"colab-df-convert\" onclick=\"convertToInteractive('df-d61d88d6-677a-4dc9-a848-915497b7d0ac')\"\n",
              "              title=\"Convert this dataframe to an interactive table.\"\n",
              "              style=\"display:none;\">\n",
              "        \n",
              "  <svg xmlns=\"http://www.w3.org/2000/svg\" height=\"24px\"viewBox=\"0 0 24 24\"\n",
              "       width=\"24px\">\n",
              "    <path d=\"M0 0h24v24H0V0z\" fill=\"none\"/>\n",
              "    <path d=\"M18.56 5.44l.94 2.06.94-2.06 2.06-.94-2.06-.94-.94-2.06-.94 2.06-2.06.94zm-11 1L8.5 8.5l.94-2.06 2.06-.94-2.06-.94L8.5 2.5l-.94 2.06-2.06.94zm10 10l.94 2.06.94-2.06 2.06-.94-2.06-.94-.94-2.06-.94 2.06-2.06.94z\"/><path d=\"M17.41 7.96l-1.37-1.37c-.4-.4-.92-.59-1.43-.59-.52 0-1.04.2-1.43.59L10.3 9.45l-7.72 7.72c-.78.78-.78 2.05 0 2.83L4 21.41c.39.39.9.59 1.41.59.51 0 1.02-.2 1.41-.59l7.78-7.78 2.81-2.81c.8-.78.8-2.07 0-2.86zM5.41 20L4 18.59l7.72-7.72 1.47 1.35L5.41 20z\"/>\n",
              "  </svg>\n",
              "      </button>\n",
              "      \n",
              "  <style>\n",
              "    .colab-df-container {\n",
              "      display:flex;\n",
              "      flex-wrap:wrap;\n",
              "      gap: 12px;\n",
              "    }\n",
              "\n",
              "    .colab-df-convert {\n",
              "      background-color: #E8F0FE;\n",
              "      border: none;\n",
              "      border-radius: 50%;\n",
              "      cursor: pointer;\n",
              "      display: none;\n",
              "      fill: #1967D2;\n",
              "      height: 32px;\n",
              "      padding: 0 0 0 0;\n",
              "      width: 32px;\n",
              "    }\n",
              "\n",
              "    .colab-df-convert:hover {\n",
              "      background-color: #E2EBFA;\n",
              "      box-shadow: 0px 1px 2px rgba(60, 64, 67, 0.3), 0px 1px 3px 1px rgba(60, 64, 67, 0.15);\n",
              "      fill: #174EA6;\n",
              "    }\n",
              "\n",
              "    [theme=dark] .colab-df-convert {\n",
              "      background-color: #3B4455;\n",
              "      fill: #D2E3FC;\n",
              "    }\n",
              "\n",
              "    [theme=dark] .colab-df-convert:hover {\n",
              "      background-color: #434B5C;\n",
              "      box-shadow: 0px 1px 3px 1px rgba(0, 0, 0, 0.15);\n",
              "      filter: drop-shadow(0px 1px 2px rgba(0, 0, 0, 0.3));\n",
              "      fill: #FFFFFF;\n",
              "    }\n",
              "  </style>\n",
              "\n",
              "      <script>\n",
              "        const buttonEl =\n",
              "          document.querySelector('#df-d61d88d6-677a-4dc9-a848-915497b7d0ac button.colab-df-convert');\n",
              "        buttonEl.style.display =\n",
              "          google.colab.kernel.accessAllowed ? 'block' : 'none';\n",
              "\n",
              "        async function convertToInteractive(key) {\n",
              "          const element = document.querySelector('#df-d61d88d6-677a-4dc9-a848-915497b7d0ac');\n",
              "          const dataTable =\n",
              "            await google.colab.kernel.invokeFunction('convertToInteractive',\n",
              "                                                     [key], {});\n",
              "          if (!dataTable) return;\n",
              "\n",
              "          const docLinkHtml = 'Like what you see? Visit the ' +\n",
              "            '<a target=\"_blank\" href=https://colab.research.google.com/notebooks/data_table.ipynb>data table notebook</a>'\n",
              "            + ' to learn more about interactive tables.';\n",
              "          element.innerHTML = '';\n",
              "          dataTable['output_type'] = 'display_data';\n",
              "          await google.colab.output.renderOutput(dataTable, element);\n",
              "          const docLink = document.createElement('div');\n",
              "          docLink.innerHTML = docLinkHtml;\n",
              "          element.appendChild(docLink);\n",
              "        }\n",
              "      </script>\n",
              "    </div>\n",
              "  </div>\n",
              "  "
            ]
          },
          "metadata": {},
          "execution_count": 31
        }
      ]
    },
    {
      "cell_type": "code",
      "source": [
        "plt.scatter(data['x'], data['y'])"
      ],
      "metadata": {
        "colab": {
          "base_uri": "https://localhost:8080/",
          "height": 282
        },
        "id": "aePQbOUXvTt8",
        "outputId": "2de44afc-5598-44b4-a7f8-6a6bed68fcf2"
      },
      "execution_count": 33,
      "outputs": [
        {
          "output_type": "execute_result",
          "data": {
            "text/plain": [
              "<matplotlib.collections.PathCollection at 0x7f9c1fd94d00>"
            ]
          },
          "metadata": {},
          "execution_count": 33
        },
        {
          "output_type": "display_data",
          "data": {
            "text/plain": [
              "<Figure size 432x288 with 1 Axes>"
            ],
            "image/png": "[encoded data removed]"
          },
          "metadata": {
            "needs_background": "light"
          }
        }
      ]
    },
    {
      "cell_type": "code",
      "source": [
        "kmeans = KMeans(n_clusters = 3, init = 'random', max_iter = 300)\n",
        "\n",
        "X = data.values\n",
        "kmeans.fit(X)\n",
        "\n",
        "kmeans.inertia_"
      ],
      "metadata": {
        "colab": {
          "base_uri": "https://localhost:8080/"
        },
        "id": "I-Qup0MKvgaw",
        "outputId": "afb3f54e-aa65-4c23-eb28-7118e88da12c"
      },
      "execution_count": 39,
      "outputs": [
        {
          "output_type": "execute_result",
          "data": {
            "text/plain": [
              "20376.78923727851"
            ]
          },
          "metadata": {},
          "execution_count": 39
        }
      ]
    },
    {
      "cell_type": "code",
      "source": [
        "flags = kmeans.labels_\n",
        "flags"
      ],
      "metadata": {
        "colab": {
          "base_uri": "https://localhost:8080/"
        },
        "id": "a-6tl7kzwScF",
        "outputId": "ff41ab15-d2f3-4afa-e59c-39a1a8c7a9fc"
      },
      "execution_count": 41,
      "outputs": [
        {
          "output_type": "execute_result",
          "data": {
            "text/plain": [
              "array([0, 0, 0, ..., 2, 0, 2], dtype=int32)"
            ]
          },
          "metadata": {},
          "execution_count": 41
        }
      ]
    },
    {
      "cell_type": "code",
      "source": [
        "category0 = data[flags == 0]\n",
        "category1 = data[flags == 1]\n",
        "category2 = data[flags == 2]\n",
        "\n",
        "plt.scatter(category0['x'], category0['y'], label = 'category0')\n",
        "plt.scatter(category1['x'], category1['y'], label = 'category1')\n",
        "plt.scatter(category2['x'], category2['y'], label = 'category2')\n",
        "\n",
        "plt.legend()"
      ],
      "metadata": {
        "colab": {
          "base_uri": "https://localhost:8080/",
          "height": 282
        },
        "id": "x8Bof-gtv1jT",
        "outputId": "a29d9a8b-cfd4-4837-bbbd-d75313172205"
      },
      "execution_count": 43,
      "outputs": [
        {
          "output_type": "execute_result",
          "data": {
            "text/plain": [
              "<matplotlib.legend.Legend at 0x7f9c1fd65d60>"
            ]
          },
          "metadata": {},
          "execution_count": 43
        },
        {
          "output_type": "display_data",
          "data": {
            "text/plain": [
              "<Figure size 432x288 with 1 Axes>"
            ],
            "image/png": "[encoded data removed]"
          },
          "metadata": {
            "needs_background": "light"
          }
        }
      ]
    },
    {
      "cell_type": "markdown",
      "source": [
        "Transforming data into Polar coordinates\n",
        "\n",
        "https://en.wikipedia.org/wiki/Polar_coordinate_system"
      ],
      "metadata": {
        "id": "whTTBKHoxKUx"
      }
    },
    {
      "cell_type": "code",
      "source": [
        "data['r'] = (data['x'] ** 2 + data['y'] ** 2) ** 0.5\n",
        "data"
      ],
      "metadata": {
        "colab": {
          "base_uri": "https://localhost:8080/",
          "height": 423
        },
        "id": "qJ04ajgcwZ-2",
        "outputId": "fc8d1529-1996-4737-8d81-53e4997e7b99"
      },
      "execution_count": 45,
      "outputs": [
        {
          "output_type": "execute_result",
          "data": {
            "text/plain": [
              "             x         y         r\n",
              "0    -0.420139 -0.009825  0.420254\n",
              "1    -0.056035  0.158766  0.168364\n",
              "2     0.694156 -0.563173  0.893877\n",
              "3    -0.291152  0.195805  0.350869\n",
              "4     0.022523 -0.187408  0.188756\n",
              "...        ...       ...       ...\n",
              "2995  2.682259 -5.231673  5.879194\n",
              "2996 -5.603873 -0.663559  5.643022\n",
              "2997  5.224298 -2.026213  5.603466\n",
              "2998 -2.991822  5.143475  5.950322\n",
              "2999  4.889093  1.789527  5.206308\n",
              "\n",
              "[3000 rows x 3 columns]"
            ],
            "text/html": [
              "\n",
              "  <div id=\"df-4dca2539-1be5-450b-9326-7fe6a6bab92b\">\n",
              "    <div class=\"colab-df-container\">\n",
              "      <div>\n",
              "<style scoped>\n",
              "    .dataframe tbody tr th:only-of-type {\n",
              "        vertical-align: middle;\n",
              "    }\n",
              "\n",
              "    .dataframe tbody tr th {\n",
              "        vertical-align: top;\n",
              "    }\n",
              "\n",
              "    .dataframe thead th {\n",
              "        text-align: right;\n",
              "    }\n",
              "</style>\n",
              "<table border=\"1\" class=\"dataframe\">\n",
              "  <thead>\n",
              "    <tr style=\"text-align: right;\">\n",
              "      <th></th>\n",
              "      <th>x</th>\n",
              "      <th>y</th>\n",
              "      <th>r</th>\n",
              "    </tr>\n",
              "  </thead>\n",
              "  <tbody>\n",
              "    <tr>\n",
              "      <th>0</th>\n",
              "      <td>-0.420139</td>\n",
              "      <td>-0.009825</td>\n",
              "      <td>0.420254</td>\n",
              "    </tr>\n",
              "    <tr>\n",
              "      <th>1</th>\n",
              "      <td>-0.056035</td>\n",
              "      <td>0.158766</td>\n",
              "      <td>0.168364</td>\n",
              "    </tr>\n",
              "    <tr>\n",
              "      <th>2</th>\n",
              "      <td>0.694156</td>\n",
              "      <td>-0.563173</td>\n",
              "      <td>0.893877</td>\n",
              "    </tr>\n",
              "    <tr>\n",
              "      <th>3</th>\n",
              "      <td>-0.291152</td>\n",
              "      <td>0.195805</td>\n",
              "      <td>0.350869</td>\n",
              "    </tr>\n",
              "    <tr>\n",
              "      <th>4</th>\n",
              "      <td>0.022523</td>\n",
              "      <td>-0.187408</td>\n",
              "      <td>0.188756</td>\n",
              "    </tr>\n",
              "    <tr>\n",
              "      <th>...</th>\n",
              "      <td>...</td>\n",
              "      <td>...</td>\n",
              "      <td>...</td>\n",
              "    </tr>\n",
              "    <tr>\n",
              "      <th>2995</th>\n",
              "      <td>2.682259</td>\n",
              "      <td>-5.231673</td>\n",
              "      <td>5.879194</td>\n",
              "    </tr>\n",
              "    <tr>\n",
              "      <th>2996</th>\n",
              "      <td>-5.603873</td>\n",
              "      <td>-0.663559</td>\n",
              "      <td>5.643022</td>\n",
              "    </tr>\n",
              "    <tr>\n",
              "      <th>2997</th>\n",
              "      <td>5.224298</td>\n",
              "      <td>-2.026213</td>\n",
              "      <td>5.603466</td>\n",
              "    </tr>\n",
              "    <tr>\n",
              "      <th>2998</th>\n",
              "      <td>-2.991822</td>\n",
              "      <td>5.143475</td>\n",
              "      <td>5.950322</td>\n",
              "    </tr>\n",
              "    <tr>\n",
              "      <th>2999</th>\n",
              "      <td>4.889093</td>\n",
              "      <td>1.789527</td>\n",
              "      <td>5.206308</td>\n",
              "    </tr>\n",
              "  </tbody>\n",
              "</table>\n",
              "<p>3000 rows × 3 columns</p>\n",
              "</div>\n",
              "      <button class=\"colab-df-convert\" onclick=\"convertToInteractive('df-4dca2539-1be5-450b-9326-7fe6a6bab92b')\"\n",
              "              title=\"Convert this dataframe to an interactive table.\"\n",
              "              style=\"display:none;\">\n",
              "        \n",
              "  <svg xmlns=\"http://www.w3.org/2000/svg\" height=\"24px\"viewBox=\"0 0 24 24\"\n",
              "       width=\"24px\">\n",
              "    <path d=\"M0 0h24v24H0V0z\" fill=\"none\"/>\n",
              "    <path d=\"M18.56 5.44l.94 2.06.94-2.06 2.06-.94-2.06-.94-.94-2.06-.94 2.06-2.06.94zm-11 1L8.5 8.5l.94-2.06 2.06-.94-2.06-.94L8.5 2.5l-.94 2.06-2.06.94zm10 10l.94 2.06.94-2.06 2.06-.94-2.06-.94-.94-2.06-.94 2.06-2.06.94z\"/><path d=\"M17.41 7.96l-1.37-1.37c-.4-.4-.92-.59-1.43-.59-.52 0-1.04.2-1.43.59L10.3 9.45l-7.72 7.72c-.78.78-.78 2.05 0 2.83L4 21.41c.39.39.9.59 1.41.59.51 0 1.02-.2 1.41-.59l7.78-7.78 2.81-2.81c.8-.78.8-2.07 0-2.86zM5.41 20L4 18.59l7.72-7.72 1.47 1.35L5.41 20z\"/>\n",
              "  </svg>\n",
              "      </button>\n",
              "      \n",
              "  <style>\n",
              "    .colab-df-container {\n",
              "      display:flex;\n",
              "      flex-wrap:wrap;\n",
              "      gap: 12px;\n",
              "    }\n",
              "\n",
              "    .colab-df-convert {\n",
              "      background-color: #E8F0FE;\n",
              "      border: none;\n",
              "      border-radius: 50%;\n",
              "      cursor: pointer;\n",
              "      display: none;\n",
              "      fill: #1967D2;\n",
              "      height: 32px;\n",
              "      padding: 0 0 0 0;\n",
              "      width: 32px;\n",
              "    }\n",
              "\n",
              "    .colab-df-convert:hover {\n",
              "      background-color: #E2EBFA;\n",
              "      box-shadow: 0px 1px 2px rgba(60, 64, 67, 0.3), 0px 1px 3px 1px rgba(60, 64, 67, 0.15);\n",
              "      fill: #174EA6;\n",
              "    }\n",
              "\n",
              "    [theme=dark] .colab-df-convert {\n",
              "      background-color: #3B4455;\n",
              "      fill: #D2E3FC;\n",
              "    }\n",
              "\n",
              "    [theme=dark] .colab-df-convert:hover {\n",
              "      background-color: #434B5C;\n",
              "      box-shadow: 0px 1px 3px 1px rgba(0, 0, 0, 0.15);\n",
              "      filter: drop-shadow(0px 1px 2px rgba(0, 0, 0, 0.3));\n",
              "      fill: #FFFFFF;\n",
              "    }\n",
              "  </style>\n",
              "\n",
              "      <script>\n",
              "        const buttonEl =\n",
              "          document.querySelector('#df-4dca2539-1be5-450b-9326-7fe6a6bab92b button.colab-df-convert');\n",
              "        buttonEl.style.display =\n",
              "          google.colab.kernel.accessAllowed ? 'block' : 'none';\n",
              "\n",
              "        async function convertToInteractive(key) {\n",
              "          const element = document.querySelector('#df-4dca2539-1be5-450b-9326-7fe6a6bab92b');\n",
              "          const dataTable =\n",
              "            await google.colab.kernel.invokeFunction('convertToInteractive',\n",
              "                                                     [key], {});\n",
              "          if (!dataTable) return;\n",
              "\n",
              "          const docLinkHtml = 'Like what you see? Visit the ' +\n",
              "            '<a target=\"_blank\" href=https://colab.research.google.com/notebooks/data_table.ipynb>data table notebook</a>'\n",
              "            + ' to learn more about interactive tables.';\n",
              "          element.innerHTML = '';\n",
              "          dataTable['output_type'] = 'display_data';\n",
              "          await google.colab.output.renderOutput(dataTable, element);\n",
              "          const docLink = document.createElement('div');\n",
              "          docLink.innerHTML = docLinkHtml;\n",
              "          element.appendChild(docLink);\n",
              "        }\n",
              "      </script>\n",
              "    </div>\n",
              "  </div>\n",
              "  "
            ]
          },
          "metadata": {},
          "execution_count": 45
        }
      ]
    },
    {
      "cell_type": "code",
      "source": [
        "data['theta'] = np.arcsin(data['y'] / data['r'])\n",
        "data"
      ],
      "metadata": {
        "colab": {
          "base_uri": "https://localhost:8080/",
          "height": 423
        },
        "id": "ho8o9PMoxfcZ",
        "outputId": "7d62af45-1e0a-40e1-d190-df9c5aeb52e8"
      },
      "execution_count": 47,
      "outputs": [
        {
          "output_type": "execute_result",
          "data": {
            "text/plain": [
              "             x         y         r     theta\n",
              "0    -0.420139 -0.009825  0.420254 -0.023380\n",
              "1    -0.056035  0.158766  0.168364  1.231504\n",
              "2     0.694156 -0.563173  0.893877 -0.681597\n",
              "3    -0.291152  0.195805  0.350869  0.592043\n",
              "4     0.022523 -0.187408  0.188756 -1.451190\n",
              "...        ...       ...       ...       ...\n",
              "2995  2.682259 -5.231673  5.879194 -1.097043\n",
              "2996 -5.603873 -0.663559  5.643022 -0.117862\n",
              "2997  5.224298 -2.026213  5.603466 -0.369983\n",
              "2998 -2.991822  5.143475  5.950322  1.043961\n",
              "2999  4.889093  1.789527  5.206308  0.350878\n",
              "\n",
              "[3000 rows x 4 columns]"
            ],
            "text/html": [
              "\n",
              "  <div id=\"df-aab92a47-363c-462a-95b2-e9ed5ca3b2cd\">\n",
              "    <div class=\"colab-df-container\">\n",
              "      <div>\n",
              "<style scoped>\n",
              "    .dataframe tbody tr th:only-of-type {\n",
              "        vertical-align: middle;\n",
              "    }\n",
              "\n",
              "    .dataframe tbody tr th {\n",
              "        vertical-align: top;\n",
              "    }\n",
              "\n",
              "    .dataframe thead th {\n",
              "        text-align: right;\n",
              "    }\n",
              "</style>\n",
              "<table border=\"1\" class=\"dataframe\">\n",
              "  <thead>\n",
              "    <tr style=\"text-align: right;\">\n",
              "      <th></th>\n",
              "      <th>x</th>\n",
              "      <th>y</th>\n",
              "      <th>r</th>\n",
              "      <th>theta</th>\n",
              "    </tr>\n",
              "  </thead>\n",
              "  <tbody>\n",
              "    <tr>\n",
              "      <th>0</th>\n",
              "      <td>-0.420139</td>\n",
              "      <td>-0.009825</td>\n",
              "      <td>0.420254</td>\n",
              "      <td>-0.023380</td>\n",
              "    </tr>\n",
              "    <tr>\n",
              "      <th>1</th>\n",
              "      <td>-0.056035</td>\n",
              "      <td>0.158766</td>\n",
              "      <td>0.168364</td>\n",
              "      <td>1.231504</td>\n",
              "    </tr>\n",
              "    <tr>\n",
              "      <th>2</th>\n",
              "      <td>0.694156</td>\n",
              "      <td>-0.563173</td>\n",
              "      <td>0.893877</td>\n",
              "      <td>-0.681597</td>\n",
              "    </tr>\n",
              "    <tr>\n",
              "      <th>3</th>\n",
              "      <td>-0.291152</td>\n",
              "      <td>0.195805</td>\n",
              "      <td>0.350869</td>\n",
              "      <td>0.592043</td>\n",
              "    </tr>\n",
              "    <tr>\n",
              "      <th>4</th>\n",
              "      <td>0.022523</td>\n",
              "      <td>-0.187408</td>\n",
              "      <td>0.188756</td>\n",
              "      <td>-1.451190</td>\n",
              "    </tr>\n",
              "    <tr>\n",
              "      <th>...</th>\n",
              "      <td>...</td>\n",
              "      <td>...</td>\n",
              "      <td>...</td>\n",
              "      <td>...</td>\n",
              "    </tr>\n",
              "    <tr>\n",
              "      <th>2995</th>\n",
              "      <td>2.682259</td>\n",
              "      <td>-5.231673</td>\n",
              "      <td>5.879194</td>\n",
              "      <td>-1.097043</td>\n",
              "    </tr>\n",
              "    <tr>\n",
              "      <th>2996</th>\n",
              "      <td>-5.603873</td>\n",
              "      <td>-0.663559</td>\n",
              "      <td>5.643022</td>\n",
              "      <td>-0.117862</td>\n",
              "    </tr>\n",
              "    <tr>\n",
              "      <th>2997</th>\n",
              "      <td>5.224298</td>\n",
              "      <td>-2.026213</td>\n",
              "      <td>5.603466</td>\n",
              "      <td>-0.369983</td>\n",
              "    </tr>\n",
              "    <tr>\n",
              "      <th>2998</th>\n",
              "      <td>-2.991822</td>\n",
              "      <td>5.143475</td>\n",
              "      <td>5.950322</td>\n",
              "      <td>1.043961</td>\n",
              "    </tr>\n",
              "    <tr>\n",
              "      <th>2999</th>\n",
              "      <td>4.889093</td>\n",
              "      <td>1.789527</td>\n",
              "      <td>5.206308</td>\n",
              "      <td>0.350878</td>\n",
              "    </tr>\n",
              "  </tbody>\n",
              "</table>\n",
              "<p>3000 rows × 4 columns</p>\n",
              "</div>\n",
              "      <button class=\"colab-df-convert\" onclick=\"convertToInteractive('df-aab92a47-363c-462a-95b2-e9ed5ca3b2cd')\"\n",
              "              title=\"Convert this dataframe to an interactive table.\"\n",
              "              style=\"display:none;\">\n",
              "        \n",
              "  <svg xmlns=\"http://www.w3.org/2000/svg\" height=\"24px\"viewBox=\"0 0 24 24\"\n",
              "       width=\"24px\">\n",
              "    <path d=\"M0 0h24v24H0V0z\" fill=\"none\"/>\n",
              "    <path d=\"M18.56 5.44l.94 2.06.94-2.06 2.06-.94-2.06-.94-.94-2.06-.94 2.06-2.06.94zm-11 1L8.5 8.5l.94-2.06 2.06-.94-2.06-.94L8.5 2.5l-.94 2.06-2.06.94zm10 10l.94 2.06.94-2.06 2.06-.94-2.06-.94-.94-2.06-.94 2.06-2.06.94z\"/><path d=\"M17.41 7.96l-1.37-1.37c-.4-.4-.92-.59-1.43-.59-.52 0-1.04.2-1.43.59L10.3 9.45l-7.72 7.72c-.78.78-.78 2.05 0 2.83L4 21.41c.39.39.9.59 1.41.59.51 0 1.02-.2 1.41-.59l7.78-7.78 2.81-2.81c.8-.78.8-2.07 0-2.86zM5.41 20L4 18.59l7.72-7.72 1.47 1.35L5.41 20z\"/>\n",
              "  </svg>\n",
              "      </button>\n",
              "      \n",
              "  <style>\n",
              "    .colab-df-container {\n",
              "      display:flex;\n",
              "      flex-wrap:wrap;\n",
              "      gap: 12px;\n",
              "    }\n",
              "\n",
              "    .colab-df-convert {\n",
              "      background-color: #E8F0FE;\n",
              "      border: none;\n",
              "      border-radius: 50%;\n",
              "      cursor: pointer;\n",
              "      display: none;\n",
              "      fill: #1967D2;\n",
              "      height: 32px;\n",
              "      padding: 0 0 0 0;\n",
              "      width: 32px;\n",
              "    }\n",
              "\n",
              "    .colab-df-convert:hover {\n",
              "      background-color: #E2EBFA;\n",
              "      box-shadow: 0px 1px 2px rgba(60, 64, 67, 0.3), 0px 1px 3px 1px rgba(60, 64, 67, 0.15);\n",
              "      fill: #174EA6;\n",
              "    }\n",
              "\n",
              "    [theme=dark] .colab-df-convert {\n",
              "      background-color: #3B4455;\n",
              "      fill: #D2E3FC;\n",
              "    }\n",
              "\n",
              "    [theme=dark] .colab-df-convert:hover {\n",
              "      background-color: #434B5C;\n",
              "      box-shadow: 0px 1px 3px 1px rgba(0, 0, 0, 0.15);\n",
              "      filter: drop-shadow(0px 1px 2px rgba(0, 0, 0, 0.3));\n",
              "      fill: #FFFFFF;\n",
              "    }\n",
              "  </style>\n",
              "\n",
              "      <script>\n",
              "        const buttonEl =\n",
              "          document.querySelector('#df-aab92a47-363c-462a-95b2-e9ed5ca3b2cd button.colab-df-convert');\n",
              "        buttonEl.style.display =\n",
              "          google.colab.kernel.accessAllowed ? 'block' : 'none';\n",
              "\n",
              "        async function convertToInteractive(key) {\n",
              "          const element = document.querySelector('#df-aab92a47-363c-462a-95b2-e9ed5ca3b2cd');\n",
              "          const dataTable =\n",
              "            await google.colab.kernel.invokeFunction('convertToInteractive',\n",
              "                                                     [key], {});\n",
              "          if (!dataTable) return;\n",
              "\n",
              "          const docLinkHtml = 'Like what you see? Visit the ' +\n",
              "            '<a target=\"_blank\" href=https://colab.research.google.com/notebooks/data_table.ipynb>data table notebook</a>'\n",
              "            + ' to learn more about interactive tables.';\n",
              "          element.innerHTML = '';\n",
              "          dataTable['output_type'] = 'display_data';\n",
              "          await google.colab.output.renderOutput(dataTable, element);\n",
              "          const docLink = document.createElement('div');\n",
              "          docLink.innerHTML = docLinkHtml;\n",
              "          element.appendChild(docLink);\n",
              "        }\n",
              "      </script>\n",
              "    </div>\n",
              "  </div>\n",
              "  "
            ]
          },
          "metadata": {},
          "execution_count": 47
        }
      ]
    },
    {
      "cell_type": "code",
      "source": [
        "plt.scatter(data['r'], data['theta'])\n",
        "plt.title('Bulls Eye (Polar Coordinate)')\n",
        "plt.xlabel('r')\n",
        "plt.ylabel('theta')"
      ],
      "metadata": {
        "colab": {
          "base_uri": "https://localhost:8080/",
          "height": 312
        },
        "id": "JUBEiDEHx5H8",
        "outputId": "12d418d0-0f00-4f16-d39a-6204c1077904"
      },
      "execution_count": 49,
      "outputs": [
        {
          "output_type": "execute_result",
          "data": {
            "text/plain": [
              "Text(0, 0.5, 'theta')"
            ]
          },
          "metadata": {},
          "execution_count": 49
        },
        {
          "output_type": "display_data",
          "data": {
            "text/plain": [
              "<Figure size 432x288 with 1 Axes>"
            ],
            "image/png": "[encoded data removed]"
          },
          "metadata": {
            "needs_background": "light"
          }
        }
      ]
    },
    {
      "cell_type": "code",
      "source": [
        "kmeans = KMeans(n_clusters = 3, init = 'random', max_iter = 300)\n",
        "\n",
        "X = data[['r', 'theta']].values\n",
        "kmeans.fit(X)\n",
        "\n",
        "kmeans.inertia_\n",
        "\n",
        "flags = kmeans.labels_\n",
        "\n",
        "category0 = data[flags == 0]\n",
        "category1 = data[flags == 1]\n",
        "category2 = data[flags == 2]\n",
        "\n",
        "plt.scatter(category0['x'], category0['y'], label = 'category0')\n",
        "plt.scatter(category1['x'], category1['y'], label = 'category1')\n",
        "plt.scatter(category2['x'], category2['y'], label = 'category2')\n",
        "\n",
        "plt.legend(loc = 'lower right')\n",
        "plt.title('Bulls Eye (Polar Coordinate)')\n",
        "plt.xlabel('r')\n",
        "plt.ylabel('theta')"
      ],
      "metadata": {
        "colab": {
          "base_uri": "https://localhost:8080/",
          "height": 312
        },
        "id": "FzAwvqKsyWtB",
        "outputId": "e9d80deb-2159-4ddc-9d2d-6fee0de01fbe"
      },
      "execution_count": 53,
      "outputs": [
        {
          "output_type": "execute_result",
          "data": {
            "text/plain": [
              "Text(0, 0.5, 'theta')"
            ]
          },
          "metadata": {},
          "execution_count": 53
        },
        {
          "output_type": "display_data",
          "data": {
            "text/plain": [
              "<Figure size 432x288 with 1 Axes>"
            ],
            "image/png": "[encoded data removed]"
          },
          "metadata": {
            "needs_background": "light"
          }
        }
      ]
    },
    {
      "cell_type": "code",
      "source": [
        "kmeans.cluster_centers_"
      ],
      "metadata": {
        "colab": {
          "base_uri": "https://localhost:8080/"
        },
        "id": "QMoz0K4Uy637",
        "outputId": "64285537-6ea1-4f48-f23d-24aedc4cddce"
      },
      "execution_count": 54,
      "outputs": [
        {
          "output_type": "execute_result",
          "data": {
            "text/plain": [
              "array([[ 5.49209844e+00, -4.59208844e-03],\n",
              "       [ 4.99423509e-01,  1.61368192e-02],\n",
              "       [ 3.51257325e+00, -4.12460222e-02]])"
            ]
          },
          "metadata": {},
          "execution_count": 54
        }
      ]
    },
    {
      "cell_type": "code",
      "source": [],
      "metadata": {
        "id": "nY-61_60zXE-"
      },
      "execution_count": null,
      "outputs": []
    }
  ]
}